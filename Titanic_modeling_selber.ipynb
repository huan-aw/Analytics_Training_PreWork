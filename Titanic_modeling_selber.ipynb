{
 "cells": [
  {
   "cell_type": "code",
   "execution_count": 1,
   "metadata": {
    "collapsed": false
   },
   "outputs": [
    {
     "name": "stdout",
     "output_type": "stream",
     "text": [
      "Populating the interactive namespace from numpy and matplotlib\n"
     ]
    }
   ],
   "source": [
    "import warnings\n",
    "warnings.filterwarnings('ignore')\n",
    "import pandas as pd\n",
    "import numpy as np\n",
    "import matplotlib.pyplot as plt\n",
    "%pylab inline\n"
   ]
  },
  {
   "cell_type": "code",
   "execution_count": 2,
   "metadata": {
    "collapsed": true
   },
   "outputs": [],
   "source": [
    "# data preparation\n",
    "import re\n",
    "import operator"
   ]
  },
  {
   "cell_type": "code",
   "execution_count": 3,
   "metadata": {
    "collapsed": true
   },
   "outputs": [],
   "source": [
    "# modelling\n",
    "from sklearn import cross_validation\n",
    "from sklearn.cross_validation import KFold\n",
    "from sklearn.ensemble import RandomForestClassifier\n",
    "from sklearn.ensemble import GradientBoostingClassifier\n",
    "from sklearn import svm\n",
    "from sklearn.linear_model import LogisticRegression"
   ]
  },
  {
   "cell_type": "code",
   "execution_count": 4,
   "metadata": {
    "collapsed": true
   },
   "outputs": [],
   "source": [
    "titanic = pd.read_csv(\"c:/Users/c147141/Downloads/train.csv\")\n"
   ]
  },
  {
   "cell_type": "markdown",
   "metadata": {},
   "source": [
    "# Data Preparation\n",
    "\n",
    "### Missing Data"
   ]
  },
  {
   "cell_type": "code",
   "execution_count": 5,
   "metadata": {
    "collapsed": true
   },
   "outputs": [],
   "source": [
    "titanic['Age'] = titanic['Age'].fillna(titanic.Age.median())\n",
    "\n",
    "titanic.loc[titanic.Sex == 'male','Sex'] = 0\n",
    "titanic.loc[titanic.Sex == 'female','Sex'] = 1\n",
    "\n",
    "titanic['Embarked'] = titanic['Embarked'].fillna('S')\n",
    "titanic.loc[titanic.Embarked == 'S', 'Embarked'] = 0\n",
    "titanic.loc[titanic.Embarked == 'C', 'Embarked'] = 1\n",
    "titanic.loc[titanic.Embarked == 'Q', 'Embarked'] = 2"
   ]
  },
  {
   "cell_type": "markdown",
   "metadata": {},
   "source": [
    "### Generating extra features\n",
    "First we generate the features generated from the tutorials."
   ]
  },
  {
   "cell_type": "code",
   "execution_count": 6,
   "metadata": {
    "collapsed": false
   },
   "outputs": [],
   "source": [
    "## Name length\n",
    "titanic['NameLength'] = titanic['Name'].apply(lambda x: len(x))\n",
    "\n",
    "\n",
    "## Family Size\n",
    "titanic['FamilySize'] = titanic['SibSp'] + titanic['Parch']\n",
    "\n",
    "\n",
    "## Find Title\n",
    "def get_titel(name):\n",
    "    titles_search = re.search(' ([A-Za-z]+)\\.', name)\n",
    "    if titles_search:\n",
    "        return titles_search.group(1)\n",
    "    return \"\"\n",
    "titles = titanic['Name'].apply(get_titel)\n",
    "#match title to a certain class\n",
    "title_mapping = {'Mr':1,\"Miss\":2,'Ms':2,'Mrs':3,'Master':4,'Dr':5,'Rev':6,\n",
    "                 'Major':7,'Col':7,'Capt':7,'Mlle':8,\"Mme\":8,'Don':9,\n",
    "                 'Sir':9,'Lady':10,'Countess':10,'Jonkheer':10}\n",
    "for k,v in title_mapping.items():\n",
    "    titles[titles == k] = v\n",
    "titanic[\"Title\"] = titles\n",
    "\n",
    "\n",
    "## Find FamilyId\n",
    "family_id_mapping = {}\n",
    "def get_family_id(row):\n",
    "    last_name = row['Name'].split(',')[0]\n",
    "    family_id = '{0}{1}'.format(last_name,row['FamilySize'])\n",
    "    if family_id not in family_id_mapping:\n",
    "        if len(family_id_mapping) == 0 :\n",
    "            current_id = 1\n",
    "        else: \n",
    "            current_id = max(family_id_mapping.items(),\n",
    "                             key = operator.itemgetter(1))[1]+1\n",
    "        family_id_mapping[family_id] = current_id\n",
    "    return family_id_mapping[family_id]\n",
    "\n",
    "family_ids = titanic.apply(get_family_id,axis = 1)\n",
    "family_ids[titanic['FamilySize'] < 3] = -1\n",
    "titanic['FamilyId'] = family_ids"
   ]
  },
  {
   "cell_type": "markdown",
   "metadata": {},
   "source": [
    "Next we are going to generate some features by ourself."
   ]
  },
  {
   "cell_type": "code",
   "execution_count": 7,
   "metadata": {
    "collapsed": false
   },
   "outputs": [],
   "source": [
    "# Use the Cabin Information.\n",
    "\n",
    "# put the missing class to class 'Z'\n",
    "titanic['Cabin'] = titanic['Cabin'].fillna('Z')\n",
    "cabin_class = titanic['Cabin'].apply(lambda x: x[0])\n",
    "#print (pd.value_counts(cabin_class))\n",
    "# put the T class also to A because it is only one and also belong to first class\n",
    "cabin_class[cabin_class == 'T'] = 'A'\n",
    "# print (pd.value_counts(cabin_class))\n",
    "# match the class to numbers\n",
    "cabin_mapping = {'A':1,'B':2,'C':3,'D':4,'E':5,'F':6,'G':7,'Z':8}\n",
    "for k, v in cabin_mapping.items():\n",
    "    cabin_class[cabin_class == k] = v\n",
    "\n",
    "#print (pd.value_counts(cabin_class))\n",
    "titanic['CabinClass'] = cabin_class"
   ]
  },
  {
   "cell_type": "markdown",
   "metadata": {},
   "source": [
    "# Modelling\n",
    "### Random Forest"
   ]
  },
  {
   "cell_type": "code",
   "execution_count": 8,
   "metadata": {
    "collapsed": false
   },
   "outputs": [
    {
     "name": "stdout",
     "output_type": "stream",
     "text": [
      "0.826038159371\n"
     ]
    }
   ],
   "source": [
    "# define predictors to use in modelling\n",
    "predictors = ['Pclass','Sex','Age','FamilySize','Fare','Embarked',\n",
    "              'NameLength','Title','FamilyId','CabinClass']\n",
    "\n",
    "alg = RandomForestClassifier(random_state=1, n_estimators= 150, min_samples_leaf= 4,\n",
    "                            min_samples_split = 8)\n",
    "\n",
    "scores = cross_validation.cross_val_score(alg,titanic[predictors],titanic['Survived'],cv = 3)\n",
    "print (scores.mean())"
   ]
  },
  {
   "cell_type": "markdown",
   "metadata": {},
   "source": [
    "### Gradient Boosting"
   ]
  },
  {
   "cell_type": "code",
   "execution_count": 9,
   "metadata": {
    "collapsed": false
   },
   "outputs": [
    {
     "name": "stdout",
     "output_type": "stream",
     "text": [
      "0.826038159371\n"
     ]
    }
   ],
   "source": [
    "alg = GradientBoostingClassifier(random_state = 1, max_depth=3, n_estimators=25)\n",
    "scores = cross_validation.cross_val_score(alg,titanic[predictors],titanic['Survived'],cv=3)\n",
    "print(scores.mean())"
   ]
  },
  {
   "cell_type": "markdown",
   "metadata": {},
   "source": [
    "### Logistic Regression"
   ]
  },
  {
   "cell_type": "code",
   "execution_count": 10,
   "metadata": {
    "collapsed": false
   },
   "outputs": [
    {
     "name": "stdout",
     "output_type": "stream",
     "text": [
      "0.809203142536\n"
     ]
    }
   ],
   "source": [
    "alg = LogisticRegression(random_state=1)\n",
    "scores = cross_validation.cross_val_score(alg,titanic[predictors],titanic['Survived'],cv=3)\n",
    "print(scores.mean())"
   ]
  },
  {
   "cell_type": "markdown",
   "metadata": {},
   "source": [
    "### Ensembling models"
   ]
  },
  {
   "cell_type": "code",
   "execution_count": 11,
   "metadata": {
    "collapsed": false
   },
   "outputs": [],
   "source": [
    "# Ensembling Random Forest with Gradient Boosting and logistic regression\n",
    "algorithms = [\n",
    "    [GradientBoostingClassifier(random_state=1,n_estimators=25,max_depth=3),\n",
    "    ['Pclass','Sex','Age','FamilySize','Fare','Embarked',\n",
    "              'NameLength','Title','FamilyId','CabinClass']],\n",
    "    [RandomForestClassifier(random_state = 1,n_estimators=150,min_samples_leaf=4,\n",
    "                            min_samples_split=8),\n",
    "    ['Pclass','Sex','Age','FamilySize','Fare','Embarked',\n",
    "              'NameLength','Title','FamilyId','CabinClass']],\n",
    "    [LogisticRegression(random_state = 1),\n",
    "    ['Pclass','Sex','Age','FamilySize','Fare','Embarked','NameLength','Title','CabinClass']]\n",
    "]\n",
    "\n",
    "kf = KFold(titanic.shape[0],n_folds=3,random_state = 1)"
   ]
  },
  {
   "cell_type": "code",
   "execution_count": 12,
   "metadata": {
    "collapsed": false
   },
   "outputs": [
    {
     "name": "stdout",
     "output_type": "stream",
     "text": [
      "[ 0.4   0.45  0.5   0.55  0.6   0.65  0.7   0.75  0.8   0.85]\n"
     ]
    }
   ],
   "source": [
    "print numpy.arange(0.4, 0.9, 0.05)"
   ]
  },
  {
   "cell_type": "code",
   "execution_count": 13,
   "metadata": {
    "collapsed": false
   },
   "outputs": [
    {
     "name": "stdout",
     "output_type": "stream",
     "text": [
      "0.829405162738\n"
     ]
    }
   ],
   "source": [
    "# ensemble two models together. \n",
    "\n",
    "# tried from 0.4 to 0.85, 0.5 should be the most stable one\n",
    "cut = 0.4\n",
    "def criteria_cut(row):\n",
    "    if sum(row)>= 2:\n",
    "        return 1\n",
    "    else:\n",
    "        return 0\n",
    "\n",
    "predictions = []\n",
    "for train, test in kf:\n",
    "    train_target = titanic['Survived'].iloc[train]\n",
    "    full_test_predictions = []\n",
    "    for alg, predictors in algorithms:\n",
    "        alg.fit(titanic[predictors].iloc[train,:],train_target)\n",
    "        test_predictions = alg.predict_proba(titanic[predictors].iloc[test,:])[:,1]\n",
    "        full_test_predictions.append(test_predictions)\n",
    "    \n",
    "    full_test_pred = pd.DataFrame(full_test_predictions).T > cut\n",
    "    #print full_test_pred\n",
    "    test_predictions = full_test_pred.apply(criteria_cut,\n",
    "                              axis = 1)\n",
    "    #print (test_predictions)\n",
    "    #print sum(full_test_pred[0]+full_test_pred[1]+full_test_pred[2])\n",
    "    #test_predictions = (full_test_predictions[0] + full_test_predictions[1]+\n",
    "    #                   full_test_predictions[2])/3\n",
    "    #test_predictions[test_predictions <= cut] = 0\n",
    "    #test_predictions[test_predictions > cut] = 1\n",
    "    predictions.append(test_predictions)\n",
    "predictions = np.concatenate(predictions, axis = 0)\n",
    "# compute accuracy by comparing to the training data\n",
    "\n",
    "predictions = pd.Series(predictions)\n",
    "accuracy = sum([predictions == titanic['Survived']])/float(len(predictions))\n",
    "print accuracy"
   ]
  },
  {
   "cell_type": "markdown",
   "metadata": {},
   "source": [
    "# Generate Submmision Files"
   ]
  },
  {
   "cell_type": "code",
   "execution_count": 31,
   "metadata": {
    "collapsed": true
   },
   "outputs": [],
   "source": [
    "titanic_test = pd.read_csv(\"c:/Users/c147141/Downloads/test.csv\")"
   ]
  },
  {
   "cell_type": "code",
   "execution_count": 32,
   "metadata": {
    "collapsed": false
   },
   "outputs": [
    {
     "name": "stdout",
     "output_type": "stream",
     "text": [
      "Mr        240\n",
      "Miss       78\n",
      "Mrs        72\n",
      "Master     21\n",
      "Col         2\n",
      "Rev         2\n",
      "Dona        1\n",
      "Ms          1\n",
      "Dr          1\n",
      "Name: Name, dtype: int64\n"
     ]
    }
   ],
   "source": [
    "# prepare the test data\n",
    "titanic_test['Age'] = titanic_test['Age'].fillna(titanic.Age.median())\n",
    "\n",
    "\n",
    "titanic_test.loc[titanic_test.Sex == 'male','Sex'] = 0\n",
    "titanic_test.loc[titanic_test.Sex == 'female','Sex'] = 1\n",
    "\n",
    "\n",
    "titanic_test['Embarked'] = titanic_test['Embarked'].fillna('S')\n",
    "titanic_test.loc[titanic_test.Embarked == 'S', 'Embarked'] = 0\n",
    "titanic_test.loc[titanic_test.Embarked == 'C', 'Embarked'] = 1\n",
    "titanic_test.loc[titanic_test.Embarked == 'Q', 'Embarked'] = 2\n",
    "\n",
    "\n",
    "titanic_test['Fare'] = titanic_test['Fare'].fillna(titanic_test['Fare'].median())\n",
    "\n",
    "\n",
    "titanic_test['NameLength'] = titanic_test['Name'].apply(lambda x: len(x))\n",
    "\n",
    "\n",
    "titanic_test['FamilySize'] = titanic_test['SibSp'] + titanic_test['Parch']\n",
    "\n",
    "\n",
    "titles_test = titanic_test['Name'].apply(get_titel)\n",
    "# print pd.value_counts(titles_test)\n",
    "title_mapping = {'Mr':1,\"Miss\":2,'Ms':2,'Mrs':3,'Master':4,'Dr':5,'Rev':6,\n",
    "                 'Major':7,'Col':7,'Capt':7,'Mlle':8,\"Mme\":8,'Don':9,'Dona':9,\n",
    "                 'Sir':9,'Lady':10,'Countess':10,'Jonkheer':10}\n",
    "for k,v in title_mapping.items():\n",
    "    titles_test[titles_test == k] = v\n",
    "titanic_test[\"Title\"] = titles_test\n",
    "\n",
    "\n",
    "family_ids = titanic_test.apply(get_family_id,axis = 1)\n",
    "family_ids[titanic_test['FamilySize'] < 3] = -1\n",
    "titanic_test['FamilyId'] = family_ids\n",
    "\n",
    "\n",
    "titanic_test['Cabin'] = titanic_test['Cabin'].fillna('Z')\n",
    "cabin_class = titanic_test['Cabin'].apply(lambda x: x[0])\n",
    "cabin_class[cabin_class == 'T'] = 'A'\n",
    "cabin_mapping = {'A':1,'B':2,'C':3,'D':4,'E':5,'F':6,'G':7,'Z':8}\n",
    "for k, v in cabin_mapping.items():\n",
    "    cabin_class[cabin_class == k] = v\n",
    "titanic_test['CabinClass'] = cabin_class"
   ]
  },
  {
   "cell_type": "code",
   "execution_count": 36,
   "metadata": {
    "collapsed": false
   },
   "outputs": [],
   "source": [
    "# predict using the model\n",
    "cut = 0.4\n",
    "def criteria_cut(row):\n",
    "    if sum(row)>= 2:\n",
    "        return 1\n",
    "    else:\n",
    "        return 0\n",
    "\n",
    "full_predictions = []\n",
    "for alg, predictors in algorithms:\n",
    "    alg.fit(titanic[predictors],titanic['Survived'])\n",
    "    predictions = alg.predict_proba(titanic_test[predictors].astype(float))[:,1]\n",
    "    full_predictions.append(predictions)\n",
    "\n",
    "full_pred = pd.DataFrame(full_predictions).T > cut\n",
    "\n",
    "predictions = full_pred.apply(criteria_cut, axis = 1)\n"
   ]
  },
  {
   "cell_type": "code",
   "execution_count": 37,
   "metadata": {
    "collapsed": true
   },
   "outputs": [],
   "source": [
    "# generate submission file\n",
    "submission = pd.DataFrame({\n",
    "        'PassengerId':titanic_test['PassengerId'],\n",
    "        'Survived':predictions\n",
    "    })\n",
    "\n",
    "submission.to_csv(\"c:/Users/c147141/Downloads/kaggle.csv\",index = False)"
   ]
  },
  {
   "cell_type": "code",
   "execution_count": null,
   "metadata": {
    "collapsed": true
   },
   "outputs": [],
   "source": []
  },
  {
   "cell_type": "code",
   "execution_count": null,
   "metadata": {
    "collapsed": true
   },
   "outputs": [],
   "source": []
  },
  {
   "cell_type": "code",
   "execution_count": null,
   "metadata": {
    "collapsed": true
   },
   "outputs": [],
   "source": []
  },
  {
   "cell_type": "code",
   "execution_count": null,
   "metadata": {
    "collapsed": true
   },
   "outputs": [],
   "source": []
  }
 ],
 "metadata": {
  "kernelspec": {
   "display_name": "Python 2",
   "language": "python",
   "name": "python2"
  },
  "language_info": {
   "codemirror_mode": {
    "name": "ipython",
    "version": 2
   },
   "file_extension": ".py",
   "mimetype": "text/x-python",
   "name": "python",
   "nbconvert_exporter": "python",
   "pygments_lexer": "ipython2",
   "version": "2.7.11"
  }
 },
 "nbformat": 4,
 "nbformat_minor": 0
}
